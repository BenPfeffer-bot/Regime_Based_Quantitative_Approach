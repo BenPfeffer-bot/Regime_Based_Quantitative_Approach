{
 "cells": [
  {
   "cell_type": "code",
   "execution_count": 6,
   "metadata": {},
   "outputs": [],
   "source": [
    "import pandas as pd\n",
    "import sys\n",
    "sys.path.append('../..')\n",
    "\n",
    "from src.strategies.adaptive_multi_regime import (\n",
    "    AdaptiveMultiRegimeStrategy,\n",
    "    RegimeDetector,\n",
    "    FundamentalAnalyzer,\n",
    ")"
   ]
  },
  {
   "cell_type": "code",
   "execution_count": 7,
   "metadata": {},
   "outputs": [],
   "source": [
    "df = pd.read_csv(\"/Users/benpfeffer/Desktop/CODE/Regime_Based_Quantitative_Approach/data/external/BME_DLY_SAN, 1_d36ff.csv\")"
   ]
  },
  {
   "cell_type": "code",
   "execution_count": 9,
   "metadata": {},
   "outputs": [
    {
     "ename": "KeyError",
     "evalue": "'ATR'",
     "output_type": "error",
     "traceback": [
      "\u001b[0;31m---------------------------------------------------------------------------\u001b[0m",
      "\u001b[0;31mKeyError\u001b[0m                                  Traceback (most recent call last)",
      "Cell \u001b[0;32mIn[9], line 16\u001b[0m\n\u001b[1;32m      4\u001b[0m strategy \u001b[38;5;241m=\u001b[39m AdaptiveMultiRegimeStrategy(\n\u001b[1;32m      5\u001b[0m     regime_detector\u001b[38;5;241m=\u001b[39mRegimeDetector(\n\u001b[1;32m      6\u001b[0m         fundamental_analyzer\u001b[38;5;241m=\u001b[39mFundamentalAnalyzer(\n\u001b[0;32m   (...)\u001b[0m\n\u001b[1;32m     12\u001b[0m     )\n\u001b[1;32m     13\u001b[0m )\n\u001b[1;32m     15\u001b[0m \u001b[38;5;66;03m# Run backtest with ticker information\u001b[39;00m\n\u001b[0;32m---> 16\u001b[0m results \u001b[38;5;241m=\u001b[39m \u001b[43mstrategy\u001b[49m\u001b[38;5;241;43m.\u001b[39;49m\u001b[43mbacktest\u001b[49m\u001b[43m(\u001b[49m\u001b[43mdf\u001b[49m\u001b[43m,\u001b[49m\u001b[43m \u001b[49m\u001b[43mticker\u001b[49m\u001b[38;5;241;43m=\u001b[39;49m\u001b[38;5;124;43m\"\u001b[39;49m\u001b[38;5;124;43mAAPL\u001b[39;49m\u001b[38;5;124;43m\"\u001b[39;49m\u001b[43m,\u001b[49m\u001b[43m \u001b[49m\u001b[43minitial_capital\u001b[49m\u001b[38;5;241;43m=\u001b[39;49m\u001b[38;5;241;43m100000\u001b[39;49m\u001b[43m)\u001b[49m\n\u001b[1;32m     18\u001b[0m \u001b[38;5;66;03m# Get performance metrics\u001b[39;00m\n\u001b[1;32m     19\u001b[0m metrics \u001b[38;5;241m=\u001b[39m strategy\u001b[38;5;241m.\u001b[39mget_strategy_metrics(results)\n",
      "File \u001b[0;32m~/Desktop/CODE/Regime_Based_Quantitative_Approach/src/notebooks/../../src/strategies/adaptive_multi_regime.py:258\u001b[0m, in \u001b[0;36mAdaptiveMultiRegimeStrategy.backtest\u001b[0;34m(self, df, ticker, initial_capital, max_risk_pct)\u001b[0m\n\u001b[1;32m    250\u001b[0m \u001b[38;5;28;01mdef\u001b[39;00m\u001b[38;5;250m \u001b[39m\u001b[38;5;21mbacktest\u001b[39m(\n\u001b[1;32m    251\u001b[0m     \u001b[38;5;28mself\u001b[39m,\n\u001b[1;32m    252\u001b[0m     df: pd\u001b[38;5;241m.\u001b[39mDataFrame,\n\u001b[0;32m   (...)\u001b[0m\n\u001b[1;32m    255\u001b[0m     max_risk_pct: \u001b[38;5;28mfloat\u001b[39m \u001b[38;5;241m=\u001b[39m \u001b[38;5;241m0.02\u001b[39m\n\u001b[1;32m    256\u001b[0m ) \u001b[38;5;241m-\u001b[39m\u001b[38;5;241m>\u001b[39m pd\u001b[38;5;241m.\u001b[39mDataFrame:\n\u001b[1;32m    257\u001b[0m \u001b[38;5;250m    \u001b[39m\u001b[38;5;124;03m\"\"\"Backtest with fundamental overlay.\"\"\"\u001b[39;00m\n\u001b[0;32m--> 258\u001b[0m     results \u001b[38;5;241m=\u001b[39m \u001b[38;5;28;43mself\u001b[39;49m\u001b[38;5;241;43m.\u001b[39;49m\u001b[43mgenerate_signals\u001b[49m\u001b[43m(\u001b[49m\u001b[43mdf\u001b[49m\u001b[43m,\u001b[49m\u001b[43m \u001b[49m\u001b[43mticker\u001b[49m\u001b[43m)\u001b[49m\n\u001b[1;32m    260\u001b[0m     \u001b[38;5;66;03m# Rest of the backtest code remains the same\u001b[39;00m\n\u001b[1;32m    261\u001b[0m     results[\u001b[38;5;124m\"\u001b[39m\u001b[38;5;124mCapital\u001b[39m\u001b[38;5;124m\"\u001b[39m] \u001b[38;5;241m=\u001b[39m initial_capital\n",
      "File \u001b[0;32m~/Desktop/CODE/Regime_Based_Quantitative_Approach/src/notebooks/../../src/strategies/adaptive_multi_regime.py:207\u001b[0m, in \u001b[0;36mAdaptiveMultiRegimeStrategy.generate_signals\u001b[0;34m(self, df, ticker)\u001b[0m\n\u001b[1;32m    204\u001b[0m df \u001b[38;5;241m=\u001b[39m df\u001b[38;5;241m.\u001b[39mcopy()\n\u001b[1;32m    206\u001b[0m \u001b[38;5;66;03m# Detect regime with fundamental overlay\u001b[39;00m\n\u001b[0;32m--> 207\u001b[0m df \u001b[38;5;241m=\u001b[39m \u001b[38;5;28;43mself\u001b[39;49m\u001b[38;5;241;43m.\u001b[39;49m\u001b[43mregime_detector\u001b[49m\u001b[38;5;241;43m.\u001b[39;49m\u001b[43mdetect_regime\u001b[49m\u001b[43m(\u001b[49m\u001b[43mdf\u001b[49m\u001b[43m,\u001b[49m\u001b[43m \u001b[49m\u001b[43mticker\u001b[49m\u001b[43m)\u001b[49m\n\u001b[1;32m    209\u001b[0m \u001b[38;5;66;03m# Get signals from both strategies\u001b[39;00m\n\u001b[1;32m    210\u001b[0m trend_signals \u001b[38;5;241m=\u001b[39m \u001b[38;5;28mself\u001b[39m\u001b[38;5;241m.\u001b[39mtrend_strategy\u001b[38;5;241m.\u001b[39mgenerate_signals(df)\n",
      "File \u001b[0;32m~/Desktop/CODE/Regime_Based_Quantitative_Approach/src/notebooks/../../src/strategies/adaptive_multi_regime.py:148\u001b[0m, in \u001b[0;36mRegimeDetector.detect_regime\u001b[0;34m(self, df, ticker)\u001b[0m\n\u001b[1;32m    145\u001b[0m df \u001b[38;5;241m=\u001b[39m df\u001b[38;5;241m.\u001b[39mcopy()\n\u001b[1;32m    147\u001b[0m \u001b[38;5;66;03m# Technical regime detection (existing code)\u001b[39;00m\n\u001b[0;32m--> 148\u001b[0m atr_threshold \u001b[38;5;241m=\u001b[39m \u001b[43mdf\u001b[49m\u001b[43m[\u001b[49m\u001b[38;5;124;43m\"\u001b[39;49m\u001b[38;5;124;43mATR\u001b[39;49m\u001b[38;5;124;43m\"\u001b[39;49m\u001b[43m]\u001b[49m\u001b[38;5;241m.\u001b[39mrolling(\u001b[38;5;28mself\u001b[39m\u001b[38;5;241m.\u001b[39mvolatility_window)\u001b[38;5;241m.\u001b[39mquantile(\u001b[38;5;28mself\u001b[39m\u001b[38;5;241m.\u001b[39matr_quantile)\n\u001b[1;32m    149\u001b[0m var_threshold \u001b[38;5;241m=\u001b[39m df[\u001b[38;5;124m\"\u001b[39m\u001b[38;5;124mRSTD\u001b[39m\u001b[38;5;124m\"\u001b[39m]\u001b[38;5;241m.\u001b[39mrolling(\u001b[38;5;28mself\u001b[39m\u001b[38;5;241m.\u001b[39mvolatility_window)\u001b[38;5;241m.\u001b[39mquantile(\u001b[38;5;28mself\u001b[39m\u001b[38;5;241m.\u001b[39mvariance_quantile)\n\u001b[1;32m    151\u001b[0m ma_trend \u001b[38;5;241m=\u001b[39m (df[\u001b[38;5;124m\"\u001b[39m\u001b[38;5;124mEMA_50\u001b[39m\u001b[38;5;124m\"\u001b[39m] \u001b[38;5;241m-\u001b[39m df[\u001b[38;5;124m\"\u001b[39m\u001b[38;5;124mEMA_200\u001b[39m\u001b[38;5;124m\"\u001b[39m]) \u001b[38;5;241m/\u001b[39m df[\u001b[38;5;124m\"\u001b[39m\u001b[38;5;124mEMA_200\u001b[39m\u001b[38;5;124m\"\u001b[39m]\n",
      "File \u001b[0;32m~/Desktop/CODE/Regime_Based_Quantitative_Approach/venv/lib/python3.12/site-packages/pandas/core/frame.py:4102\u001b[0m, in \u001b[0;36mDataFrame.__getitem__\u001b[0;34m(self, key)\u001b[0m\n\u001b[1;32m   4100\u001b[0m \u001b[38;5;28;01mif\u001b[39;00m \u001b[38;5;28mself\u001b[39m\u001b[38;5;241m.\u001b[39mcolumns\u001b[38;5;241m.\u001b[39mnlevels \u001b[38;5;241m>\u001b[39m \u001b[38;5;241m1\u001b[39m:\n\u001b[1;32m   4101\u001b[0m     \u001b[38;5;28;01mreturn\u001b[39;00m \u001b[38;5;28mself\u001b[39m\u001b[38;5;241m.\u001b[39m_getitem_multilevel(key)\n\u001b[0;32m-> 4102\u001b[0m indexer \u001b[38;5;241m=\u001b[39m \u001b[38;5;28;43mself\u001b[39;49m\u001b[38;5;241;43m.\u001b[39;49m\u001b[43mcolumns\u001b[49m\u001b[38;5;241;43m.\u001b[39;49m\u001b[43mget_loc\u001b[49m\u001b[43m(\u001b[49m\u001b[43mkey\u001b[49m\u001b[43m)\u001b[49m\n\u001b[1;32m   4103\u001b[0m \u001b[38;5;28;01mif\u001b[39;00m is_integer(indexer):\n\u001b[1;32m   4104\u001b[0m     indexer \u001b[38;5;241m=\u001b[39m [indexer]\n",
      "File \u001b[0;32m~/Desktop/CODE/Regime_Based_Quantitative_Approach/venv/lib/python3.12/site-packages/pandas/core/indexes/range.py:417\u001b[0m, in \u001b[0;36mRangeIndex.get_loc\u001b[0;34m(self, key)\u001b[0m\n\u001b[1;32m    415\u001b[0m         \u001b[38;5;28;01mraise\u001b[39;00m \u001b[38;5;167;01mKeyError\u001b[39;00m(key) \u001b[38;5;28;01mfrom\u001b[39;00m\u001b[38;5;250m \u001b[39m\u001b[38;5;21;01merr\u001b[39;00m\n\u001b[1;32m    416\u001b[0m \u001b[38;5;28;01mif\u001b[39;00m \u001b[38;5;28misinstance\u001b[39m(key, Hashable):\n\u001b[0;32m--> 417\u001b[0m     \u001b[38;5;28;01mraise\u001b[39;00m \u001b[38;5;167;01mKeyError\u001b[39;00m(key)\n\u001b[1;32m    418\u001b[0m \u001b[38;5;28mself\u001b[39m\u001b[38;5;241m.\u001b[39m_check_indexing_error(key)\n\u001b[1;32m    419\u001b[0m \u001b[38;5;28;01mraise\u001b[39;00m \u001b[38;5;167;01mKeyError\u001b[39;00m(key)\n",
      "\u001b[0;31mKeyError\u001b[0m: 'ATR'"
     ]
    }
   ],
   "source": [
    "df = pd.DataFrame()\n",
    "\n",
    "# Initialize strategy with custom fundamental parameters\n",
    "strategy = AdaptiveMultiRegimeStrategy(\n",
    "    regime_detector=RegimeDetector(\n",
    "        fundamental_analyzer=FundamentalAnalyzer(\n",
    "            max_pbv=5.0,\n",
    "            min_pbv=0.5,\n",
    "            max_pe=30.0,\n",
    "            min_market_cap=1e9\n",
    "        )\n",
    "    )\n",
    ")\n",
    "\n",
    "# Run backtest with ticker information\n",
    "results = strategy.backtest(df, ticker=\"AAPL\", initial_capital=100000)\n",
    "\n",
    "# Get performance metrics\n",
    "metrics = strategy.get_strategy_metrics(results)"
   ]
  },
  {
   "cell_type": "code",
   "execution_count": null,
   "metadata": {},
   "outputs": [],
   "source": []
  },
  {
   "cell_type": "code",
   "execution_count": null,
   "metadata": {},
   "outputs": [],
   "source": []
  }
 ],
 "metadata": {
  "kernelspec": {
   "display_name": "venv",
   "language": "python",
   "name": "python3"
  },
  "language_info": {
   "codemirror_mode": {
    "name": "ipython",
    "version": 3
   },
   "file_extension": ".py",
   "mimetype": "text/x-python",
   "name": "python",
   "nbconvert_exporter": "python",
   "pygments_lexer": "ipython3",
   "version": "3.12.8"
  }
 },
 "nbformat": 4,
 "nbformat_minor": 2
}
